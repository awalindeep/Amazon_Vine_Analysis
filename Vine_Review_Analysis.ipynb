{
  "nbformat": 4,
  "nbformat_minor": 0,
  "metadata": {
    "colab": {
      "name": "Vine_Review_Analysis.ipynb",
      "provenance": []
    },
    "kernelspec": {
      "name": "python3",
      "display_name": "Python 3"
    },
    "language_info": {
      "name": "python"
    }
  },
  "cells": [
    {
      "cell_type": "code",
      "execution_count": 1,
      "metadata": {
        "colab": {
          "base_uri": "https://localhost:8080/"
        },
        "id": "_mVcPBEQcU7Z",
        "outputId": "0665fe31-855c-418a-b33a-51fe7ced3e0a"
      },
      "outputs": [
        {
          "output_type": "stream",
          "name": "stdout",
          "text": [
            "Get:1 https://cloud.r-project.org/bin/linux/ubuntu bionic-cran40/ InRelease [3,626 B]\n",
            "Hit:2 http://archive.ubuntu.com/ubuntu bionic InRelease\n",
            "Ign:3 https://developer.download.nvidia.com/compute/machine-learning/repos/ubuntu1804/x86_64  InRelease\n",
            "Get:4 https://developer.download.nvidia.com/compute/cuda/repos/ubuntu1804/x86_64  InRelease [1,581 B]\n",
            "Hit:5 https://developer.download.nvidia.com/compute/machine-learning/repos/ubuntu1804/x86_64  Release\n",
            "Get:6 http://ppa.launchpad.net/c2d4u.team/c2d4u4.0+/ubuntu bionic InRelease [15.9 kB]\n",
            "Get:7 http://security.ubuntu.com/ubuntu bionic-security InRelease [88.7 kB]\n",
            "Get:8 http://archive.ubuntu.com/ubuntu bionic-updates InRelease [88.7 kB]\n",
            "Hit:9 http://ppa.launchpad.net/cran/libgit2/ubuntu bionic InRelease\n",
            "Get:10 http://archive.ubuntu.com/ubuntu bionic-backports InRelease [74.6 kB]\n",
            "Get:11 https://developer.download.nvidia.com/compute/cuda/repos/ubuntu1804/x86_64  Packages [910 kB]\n",
            "Hit:12 http://ppa.launchpad.net/deadsnakes/ppa/ubuntu bionic InRelease\n",
            "Hit:14 http://ppa.launchpad.net/graphics-drivers/ppa/ubuntu bionic InRelease\n",
            "Get:15 http://ppa.launchpad.net/c2d4u.team/c2d4u4.0+/ubuntu bionic/main Sources [2,095 kB]\n",
            "Get:16 http://archive.ubuntu.com/ubuntu bionic-updates/universe amd64 Packages [2,311 kB]\n",
            "Get:17 http://security.ubuntu.com/ubuntu bionic-security/universe amd64 Packages [1,533 kB]\n",
            "Get:18 http://archive.ubuntu.com/ubuntu bionic-updates/main amd64 Packages [3,369 kB]\n",
            "Get:19 http://security.ubuntu.com/ubuntu bionic-security/main amd64 Packages [2,937 kB]\n",
            "Get:20 http://ppa.launchpad.net/c2d4u.team/c2d4u4.0+/ubuntu bionic/main amd64 Packages [1,073 kB]\n",
            "Fetched 14.5 MB in 8s (1,842 kB/s)\n",
            "Reading package lists... Done\n"
          ]
        }
      ],
      "source": [
        "import os\n",
        "# Find the latest version of spark 3.0 from http://www.apache.org/dist/spark/ and enter as the spark version\n",
        "# For example:\n",
        "# spark_version = 'spark-3.0.3'\n",
        "spark_version = 'spark-3.1.3'\n",
        "os.environ['SPARK_VERSION']=spark_version\n",
        "\n",
        "# Install Spark and Java\n",
        "!apt-get update\n",
        "!apt-get install openjdk-11-jdk-headless -qq > /dev/null\n",
        "!wget -q http://www.apache.org/dist/spark/$SPARK_VERSION/$SPARK_VERSION-bin-hadoop2.7.tgz\n",
        "!tar xf $SPARK_VERSION-bin-hadoop2.7.tgz\n",
        "!pip install -q findspark\n",
        "\n",
        "# Set Environment Variables\n",
        "import os\n",
        "os.environ[\"JAVA_HOME\"] = \"/usr/lib/jvm/java-11-openjdk-amd64\"\n",
        "os.environ[\"SPARK_HOME\"] = f\"/content/{spark_version}-bin-hadoop2.7\"\n",
        "\n",
        "# Start a SparkSession\n",
        "import findspark\n",
        "findspark.init()"
      ]
    },
    {
      "cell_type": "code",
      "source": [
        "# Download the Postgres driver that will allow Spark to interact with Postgres.\n",
        "!wget https://jdbc.postgresql.org/download/postgresql-42.2.16.jar"
      ],
      "metadata": {
        "colab": {
          "base_uri": "https://localhost:8080/"
        },
        "id": "u2h1zJaicyk0",
        "outputId": "c026766a-5e8f-4200-d17f-878d0f9f77a2"
      },
      "execution_count": 2,
      "outputs": [
        {
          "output_type": "stream",
          "name": "stdout",
          "text": [
            "--2022-08-24 01:24:40--  https://jdbc.postgresql.org/download/postgresql-42.2.16.jar\n",
            "Resolving jdbc.postgresql.org (jdbc.postgresql.org)... 72.32.157.228, 2001:4800:3e1:1::228\n",
            "Connecting to jdbc.postgresql.org (jdbc.postgresql.org)|72.32.157.228|:443... connected.\n",
            "HTTP request sent, awaiting response... 200 OK\n",
            "Length: 1002883 (979K) [application/java-archive]\n",
            "Saving to: ‘postgresql-42.2.16.jar’\n",
            "\n",
            "postgresql-42.2.16. 100%[===================>] 979.38K  1.18MB/s    in 0.8s    \n",
            "\n",
            "2022-08-24 01:24:42 (1.18 MB/s) - ‘postgresql-42.2.16.jar’ saved [1002883/1002883]\n",
            "\n"
          ]
        }
      ]
    },
    {
      "cell_type": "code",
      "source": [
        "from pyspark.sql import SparkSession\n",
        "spark = SparkSession.builder.appName(\"BigData-Challenge\").config(\"spark.driver.extraClassPath\",\"/content/postgresql-42.2.16.jar\").getOrCreate()"
      ],
      "metadata": {
        "id": "IKMQ59jXc8qa"
      },
      "execution_count": 4,
      "outputs": []
    },
    {
      "cell_type": "code",
      "source": [
        "from pyspark import SparkFiles\n",
        "url = \"https://s3.amazonaws.com/amazon-reviews-pds/tsv/amazon_reviews_us_Outdoors_v1_00.tsv.gz\"\n",
        "spark.sparkContext.addFile(url)\n",
        "df = spark.read.option(\"encoding\", \"UTF-8\").csv(SparkFiles.get(\"\"), sep=\"\\t\", header=True, inferSchema=True)\n",
        "df.show()"
      ],
      "metadata": {
        "colab": {
          "base_uri": "https://localhost:8080/"
        },
        "id": "4SyokX9rdOVP",
        "outputId": "6f8076e6-311b-41bf-e13d-d720f5a4802e"
      },
      "execution_count": 5,
      "outputs": [
        {
          "output_type": "stream",
          "name": "stdout",
          "text": [
            "+-----------+-----------+--------------+----------+--------------+--------------------+----------------+-----------+-------------+-----------+----+-----------------+--------------------+--------------------+-----------+\n",
            "|marketplace|customer_id|     review_id|product_id|product_parent|       product_title|product_category|star_rating|helpful_votes|total_votes|vine|verified_purchase|     review_headline|         review_body|review_date|\n",
            "+-----------+-----------+--------------+----------+--------------+--------------------+----------------+-----------+-------------+-----------+----+-----------------+--------------------+--------------------+-----------+\n",
            "|         US|   18446823|R35T75OLUGHL5C|B000NV6H94|     110804376|Stearns Youth Boa...|        Outdoors|          4|            0|          0|   N|                Y|          Four Stars|          GOOD VALUE| 2015-08-31|\n",
            "|         US|   13724367|R2BV735O46BN33|B000IN0W3Y|     624096774|Primal Wear Men's...|        Outdoors|          5|            0|          0|   N|                Y|          Five Stars|  Excellent quality.| 2015-08-31|\n",
            "|         US|   51001958|R2NBEUGPQQGXP1|B008RBJXFM|     278970944|Osprey Hydraulics...|        Outdoors|          4|            0|          0|   N|                Y|Only Flaw Is The Cap|3rd season using ...| 2015-08-31|\n",
            "|         US|   32866903|R17LLAOJ8ITK0S|B00FK8WUQY|     312877650|CamelBak eddy .75...|        Outdoors|          3|            1|          1|   N|                Y|Poor design leads...|poor construction...| 2015-08-31|\n",
            "|         US|   30907790|R39PEQBT5ISEF4|B00EZA3VW0|     305567912|Children Black Re...|        Outdoors|          1|            0|          0|   N|                Y|Very bad quality,...|Very bad quality,...| 2015-08-31|\n",
            "|         US|   20232229|R3GNM3SU9VHJFT|B006JA8WEG|     842306035|Ibera Bicycle Tri...|        Outdoors|          4|            1|          1|   N|                Y|Nice bag. Should ...|Nice bag. Should ...| 2015-08-31|\n",
            "|         US|   17698862| R2Y81OP0EK467|B002PWFSEO|     451480122|Therm-a-Rest Comp...|        Outdoors|          5|            0|          0|   N|                Y|Very comfortable ...|Gave this to my s...| 2015-08-31|\n",
            "|         US|   38486114|R2LFGSI6HAYH5F|B002DZGKHW|     124386306|Sawyer Products P...|        Outdoors|          5|            1|          1|   N|                Y| Worked like a charm|Went on vacation ...| 2015-08-31|\n",
            "|         US|   26319572|R297G6ED1IQO7W|B00ABA08F6|     991442421|Zippo Hand Warmer...|        Outdoors|          5|            1|          1|   N|                Y|Great item. Gets ...|Great item. Gets ...| 2015-08-31|\n",
            "|         US|   27152337| RE27RFC6101N6|B003Z8WIHC|     886483892|Camp Chef Dutch O...|        Outdoors|          5|            0|          0|   N|                Y|Great value for t...|I am so glad I bo...| 2015-08-31|\n",
            "|         US|   12516845|R3BPDME6E94W8Z|B007CP6UK0|     150224054|3CERA Portable Wi...|        Outdoors|          5|            0|          0|   N|                Y|          Five Stars|        good to have| 2015-08-31|\n",
            "|         US|    3225242|R2P08O1RILUOX3|B003V3U9JK|     343847969|Texsport King Kot...|        Outdoors|          3|            0|          0|   N|                Y|Cot set up inconv...|VERY difficult to...| 2015-08-31|\n",
            "|         US|     961839|R37CVAB03PTDVI|B00Y846HN8|     858088629|Wallygadgets 2 Wh...|        Outdoors|          5|            0|          1|   N|                Y|          Five Stars|Thanks excellent ...| 2015-08-31|\n",
            "|         US|   47796452| RAWNWOGXPCPMD|B00IYQ84VY|     474493517|RainStoppers 34-I...|        Outdoors|          5|            0|          0|   N|                Y|          Five Stars|This umbrella is ...| 2015-08-31|\n",
            "|         US|   32004835| R5DYGP6ASX77M|B002MYCKLY|     920014456|Alpha Deluxe Port...|        Outdoors|          5|            0|          0|   N|                Y|          Five Stars|Love it !! I even...| 2015-08-31|\n",
            "|         US|   23972939|R1O0SAOOGF2KG7|B00EZV69JG|     128489321|Speedfil Z4 BTA B...|        Outdoors|          4|            0|          0|   N|                Y|        Good enough.|This is a fine mo...| 2015-08-31|\n",
            "|         US|   40889047|R35NJUT0U3MU3V|B00AWOT3T8|     571303876|O'Brien Kids Plat...|        Outdoors|          5|            0|          0|   N|                Y| Got Up on First Try|We just bought th...| 2015-08-31|\n",
            "|         US|   11244387|R242C08MF9D1AH|B0000AXTID|     739769424|Kwik-Tek F-5R Pla...|        Outdoors|          5|            0|          0|   N|                Y|They go over an a...|I have these on m...| 2015-08-31|\n",
            "|         US|   20121211| R3RYG8TJTO4E2|B00IFHFJXI|     984009972|Ivation Portable ...|        Outdoors|          5|            0|          0|   N|                Y|Greatest Item I b...|This is the best ...| 2015-08-31|\n",
            "|         US|   25657249|R3IKH1DNY0CP9F|B00KFILTWU|     405521681|GreenInsync Repla...|        Outdoors|          2|            0|          0|   N|                Y|I received this p...|I received this p...| 2015-08-31|\n",
            "+-----------+-----------+--------------+----------+--------------+--------------------+----------------+-----------+-------------+-----------+----+-----------------+--------------------+--------------------+-----------+\n",
            "only showing top 20 rows\n",
            "\n"
          ]
        }
      ]
    },
    {
      "cell_type": "code",
      "source": [
        "# Create the vine_table. DataFrame\n",
        "vine_df = df.select([\"review_id\", \"star_rating\", \"helpful_votes\", \"total_votes\", \"vine\", \"verified_purchase\"])\n",
        "vine_df.show()"
      ],
      "metadata": {
        "colab": {
          "base_uri": "https://localhost:8080/"
        },
        "id": "QBue3rlqdl7P",
        "outputId": "38a44e26-1f96-402f-8e5d-6ea5c2a95b2c"
      },
      "execution_count": 6,
      "outputs": [
        {
          "output_type": "stream",
          "name": "stdout",
          "text": [
            "+--------------+-----------+-------------+-----------+----+-----------------+\n",
            "|     review_id|star_rating|helpful_votes|total_votes|vine|verified_purchase|\n",
            "+--------------+-----------+-------------+-----------+----+-----------------+\n",
            "|R35T75OLUGHL5C|          4|            0|          0|   N|                Y|\n",
            "|R2BV735O46BN33|          5|            0|          0|   N|                Y|\n",
            "|R2NBEUGPQQGXP1|          4|            0|          0|   N|                Y|\n",
            "|R17LLAOJ8ITK0S|          3|            1|          1|   N|                Y|\n",
            "|R39PEQBT5ISEF4|          1|            0|          0|   N|                Y|\n",
            "|R3GNM3SU9VHJFT|          4|            1|          1|   N|                Y|\n",
            "| R2Y81OP0EK467|          5|            0|          0|   N|                Y|\n",
            "|R2LFGSI6HAYH5F|          5|            1|          1|   N|                Y|\n",
            "|R297G6ED1IQO7W|          5|            1|          1|   N|                Y|\n",
            "| RE27RFC6101N6|          5|            0|          0|   N|                Y|\n",
            "|R3BPDME6E94W8Z|          5|            0|          0|   N|                Y|\n",
            "|R2P08O1RILUOX3|          3|            0|          0|   N|                Y|\n",
            "|R37CVAB03PTDVI|          5|            0|          1|   N|                Y|\n",
            "| RAWNWOGXPCPMD|          5|            0|          0|   N|                Y|\n",
            "| R5DYGP6ASX77M|          5|            0|          0|   N|                Y|\n",
            "|R1O0SAOOGF2KG7|          4|            0|          0|   N|                Y|\n",
            "|R35NJUT0U3MU3V|          5|            0|          0|   N|                Y|\n",
            "|R242C08MF9D1AH|          5|            0|          0|   N|                Y|\n",
            "| R3RYG8TJTO4E2|          5|            0|          0|   N|                Y|\n",
            "|R3IKH1DNY0CP9F|          2|            0|          0|   N|                Y|\n",
            "+--------------+-----------+-------------+-----------+----+-----------------+\n",
            "only showing top 20 rows\n",
            "\n"
          ]
        }
      ]
    },
    {
      "cell_type": "code",
      "source": [
        "# Step 1: Create a new DF: condition => total_votes>=20\n",
        "filtered_vine_df = vine_df.filter('total_votes>=20')\n",
        "filtered_vine_df.show()"
      ],
      "metadata": {
        "colab": {
          "base_uri": "https://localhost:8080/"
        },
        "id": "9WBvSFHydnk-",
        "outputId": "df61beef-93b5-4522-8dce-041f2604604d"
      },
      "execution_count": 7,
      "outputs": [
        {
          "output_type": "stream",
          "name": "stdout",
          "text": [
            "+--------------+-----------+-------------+-----------+----+-----------------+\n",
            "|     review_id|star_rating|helpful_votes|total_votes|vine|verified_purchase|\n",
            "+--------------+-----------+-------------+-----------+----+-----------------+\n",
            "|R2FP3U4NHNFNL2|          5|           25|         29|   N|                Y|\n",
            "|R1UUK1977O38MU|          5|           31|         31|   N|                Y|\n",
            "| RXO216LWUDV6O|          3|           29|         31|   N|                Y|\n",
            "|R3NMJF7EBMM19V|          3|           26|         27|   N|                Y|\n",
            "|R2ZY0ZBDUO0XUY|          3|           20|         21|   N|                Y|\n",
            "| RBDVHX7PMQEKM|          5|           35|         39|   N|                Y|\n",
            "| RGO3KSDXYWTGU|          4|           26|         26|   N|                Y|\n",
            "|R2O4P39D0ALCQK|          2|           14|         43|   N|                Y|\n",
            "|R1E1PQGHWGO3Q1|          1|           89|         96|   N|                Y|\n",
            "|R1XOXXUVYZEDJB|          5|           22|         22|   N|                Y|\n",
            "| R7SHITUU5UG9U|          5|           27|         27|   N|                Y|\n",
            "|R230TLHU91M5Y3|          4|           21|         21|   N|                Y|\n",
            "| RHR5MKO23K9TU|          5|           26|         30|   N|                Y|\n",
            "|R1HGK3TCY161D7|          5|           52|         55|   N|                N|\n",
            "|R340QYAVNZZHJA|          4|           25|         25|   N|                N|\n",
            "|R2F1UVQK0JL4QH|          3|           20|         20|   N|                Y|\n",
            "|R1N21UY546VWMN|          2|           48|         50|   N|                Y|\n",
            "|R1E4L344EK0ZOT|          5|           20|         26|   N|                N|\n",
            "|R282QUZDDJW3ON|          4|           45|         49|   N|                Y|\n",
            "|R3H5T3T7QY3ZL2|          5|          247|        263|   N|                Y|\n",
            "+--------------+-----------+-------------+-----------+----+-----------------+\n",
            "only showing top 20 rows\n",
            "\n"
          ]
        }
      ]
    },
    {
      "cell_type": "code",
      "source": [
        "# Step 2: Create a new DF: condition => helpful_votes/total_votes >= 50%\n",
        "helpful_votes50_df = filtered_vine_df.withColumn('grater50', filtered_vine_df['helpful_votes'] / filtered_vine_df['total_votes']).filter('grater50>=0.5')\n",
        "helpful_votes50_df.show()"
      ],
      "metadata": {
        "colab": {
          "base_uri": "https://localhost:8080/"
        },
        "id": "XknzupQSdseY",
        "outputId": "8b5c174e-cce2-4920-b480-8f02a191e9d9"
      },
      "execution_count": 8,
      "outputs": [
        {
          "output_type": "stream",
          "name": "stdout",
          "text": [
            "+--------------+-----------+-------------+-----------+----+-----------------+------------------+\n",
            "|     review_id|star_rating|helpful_votes|total_votes|vine|verified_purchase|          grater50|\n",
            "+--------------+-----------+-------------+-----------+----+-----------------+------------------+\n",
            "|R2FP3U4NHNFNL2|          5|           25|         29|   N|                Y|0.8620689655172413|\n",
            "|R1UUK1977O38MU|          5|           31|         31|   N|                Y|               1.0|\n",
            "| RXO216LWUDV6O|          3|           29|         31|   N|                Y|0.9354838709677419|\n",
            "|R3NMJF7EBMM19V|          3|           26|         27|   N|                Y|0.9629629629629629|\n",
            "|R2ZY0ZBDUO0XUY|          3|           20|         21|   N|                Y|0.9523809523809523|\n",
            "| RBDVHX7PMQEKM|          5|           35|         39|   N|                Y|0.8974358974358975|\n",
            "| RGO3KSDXYWTGU|          4|           26|         26|   N|                Y|               1.0|\n",
            "|R1E1PQGHWGO3Q1|          1|           89|         96|   N|                Y|0.9270833333333334|\n",
            "|R1XOXXUVYZEDJB|          5|           22|         22|   N|                Y|               1.0|\n",
            "| R7SHITUU5UG9U|          5|           27|         27|   N|                Y|               1.0|\n",
            "|R230TLHU91M5Y3|          4|           21|         21|   N|                Y|               1.0|\n",
            "| RHR5MKO23K9TU|          5|           26|         30|   N|                Y|0.8666666666666667|\n",
            "|R1HGK3TCY161D7|          5|           52|         55|   N|                N|0.9454545454545454|\n",
            "|R340QYAVNZZHJA|          4|           25|         25|   N|                N|               1.0|\n",
            "|R2F1UVQK0JL4QH|          3|           20|         20|   N|                Y|               1.0|\n",
            "|R1N21UY546VWMN|          2|           48|         50|   N|                Y|              0.96|\n",
            "|R1E4L344EK0ZOT|          5|           20|         26|   N|                N|0.7692307692307693|\n",
            "|R282QUZDDJW3ON|          4|           45|         49|   N|                Y|0.9183673469387755|\n",
            "|R3H5T3T7QY3ZL2|          5|          247|        263|   N|                Y|0.9391634980988594|\n",
            "|R3W1A1P95IIGHX|          5|           23|         25|   N|                N|              0.92|\n",
            "+--------------+-----------+-------------+-----------+----+-----------------+------------------+\n",
            "only showing top 20 rows\n",
            "\n"
          ]
        }
      ]
    },
    {
      "cell_type": "code",
      "source": [
        "# Step 3: Create a new DF: condition => vine=='Y'\n",
        "vine_Y_df = helpful_votes50_df.filter(helpful_votes50_df['vine'] == 'Y')\n",
        "vine_Y_df.show()"
      ],
      "metadata": {
        "colab": {
          "base_uri": "https://localhost:8080/"
        },
        "id": "Lmg8Mu-idt7W",
        "outputId": "824cf7da-407d-4230-8df2-2d5edb93d0eb"
      },
      "execution_count": 9,
      "outputs": [
        {
          "output_type": "stream",
          "name": "stdout",
          "text": [
            "+--------------+-----------+-------------+-----------+----+-----------------+------------------+\n",
            "|     review_id|star_rating|helpful_votes|total_votes|vine|verified_purchase|          grater50|\n",
            "+--------------+-----------+-------------+-----------+----+-----------------+------------------+\n",
            "|R3KPC0NBUDASX3|          5|           25|         25|   Y|                N|               1.0|\n",
            "|R119P2A95GGXX4|          5|           26|         28|   Y|                N|0.9285714285714286|\n",
            "|R1HKIRME8AJ89Z|          5|           79|         82|   Y|                N|0.9634146341463414|\n",
            "|R3FY3GMBGOBR22|          5|           12|         20|   Y|                N|               0.6|\n",
            "|R15KH3FBSVYGBU|          5|           32|         37|   Y|                N|0.8648648648648649|\n",
            "|R22XZEQLVLWW49|          5|           28|         33|   Y|                N|0.8484848484848485|\n",
            "|R2OIQYVAL9D63R|          4|           59|         65|   Y|                N|0.9076923076923077|\n",
            "|R1W3KCDHM6BMZT|          4|           37|         38|   Y|                N|0.9736842105263158|\n",
            "|R3KDMPS96IJ10R|          2|           15|         21|   Y|                N|0.7142857142857143|\n",
            "|R1XWEI58A7VKLB|          5|          123|        128|   Y|                N|         0.9609375|\n",
            "|R1CJWM6CMWKSA1|          4|           31|         33|   Y|                N|0.9393939393939394|\n",
            "|R39I3FUDBKZM3Y|          5|           34|         38|   Y|                N|0.8947368421052632|\n",
            "|R32LU0KSL7QWSF|          5|           35|         37|   Y|                N|0.9459459459459459|\n",
            "|R2LGDXO3MG2WQW|          5|           37|         41|   Y|                N|0.9024390243902439|\n",
            "|R16AVI2NTYWLKI|          5|           31|         33|   Y|                N|0.9393939393939394|\n",
            "|R12K0ITIV6AYM3|          5|           34|         34|   Y|                N|               1.0|\n",
            "| R9ILZLNNK93CO|          5|           38|         39|   Y|                N|0.9743589743589743|\n",
            "|R1CS8VSI1KSR1P|          5|           21|         22|   Y|                N|0.9545454545454546|\n",
            "|R186TCIH8TEGPY|          5|           40|         43|   Y|                N|0.9302325581395349|\n",
            "| R3GBQRR2GY4SP|          4|          119|        125|   Y|                N|             0.952|\n",
            "+--------------+-----------+-------------+-----------+----+-----------------+------------------+\n",
            "only showing top 20 rows\n",
            "\n"
          ]
        }
      ]
    },
    {
      "cell_type": "code",
      "source": [
        "# Step 4: Create a new DF: condition => vine=='N'\n",
        "vine_N_df = helpful_votes50_df.filter(helpful_votes50_df['vine'] == 'N')\n",
        "vine_N_df.show()"
      ],
      "metadata": {
        "colab": {
          "base_uri": "https://localhost:8080/"
        },
        "id": "LyOqdrRRdyr7",
        "outputId": "2c2bbe40-835a-4fc5-d834-5d16b244aa67"
      },
      "execution_count": 10,
      "outputs": [
        {
          "output_type": "stream",
          "name": "stdout",
          "text": [
            "+--------------+-----------+-------------+-----------+----+-----------------+------------------+\n",
            "|     review_id|star_rating|helpful_votes|total_votes|vine|verified_purchase|          grater50|\n",
            "+--------------+-----------+-------------+-----------+----+-----------------+------------------+\n",
            "|R2FP3U4NHNFNL2|          5|           25|         29|   N|                Y|0.8620689655172413|\n",
            "|R1UUK1977O38MU|          5|           31|         31|   N|                Y|               1.0|\n",
            "| RXO216LWUDV6O|          3|           29|         31|   N|                Y|0.9354838709677419|\n",
            "|R3NMJF7EBMM19V|          3|           26|         27|   N|                Y|0.9629629629629629|\n",
            "|R2ZY0ZBDUO0XUY|          3|           20|         21|   N|                Y|0.9523809523809523|\n",
            "| RBDVHX7PMQEKM|          5|           35|         39|   N|                Y|0.8974358974358975|\n",
            "| RGO3KSDXYWTGU|          4|           26|         26|   N|                Y|               1.0|\n",
            "|R1E1PQGHWGO3Q1|          1|           89|         96|   N|                Y|0.9270833333333334|\n",
            "|R1XOXXUVYZEDJB|          5|           22|         22|   N|                Y|               1.0|\n",
            "| R7SHITUU5UG9U|          5|           27|         27|   N|                Y|               1.0|\n",
            "|R230TLHU91M5Y3|          4|           21|         21|   N|                Y|               1.0|\n",
            "| RHR5MKO23K9TU|          5|           26|         30|   N|                Y|0.8666666666666667|\n",
            "|R1HGK3TCY161D7|          5|           52|         55|   N|                N|0.9454545454545454|\n",
            "|R340QYAVNZZHJA|          4|           25|         25|   N|                N|               1.0|\n",
            "|R2F1UVQK0JL4QH|          3|           20|         20|   N|                Y|               1.0|\n",
            "|R1N21UY546VWMN|          2|           48|         50|   N|                Y|              0.96|\n",
            "|R1E4L344EK0ZOT|          5|           20|         26|   N|                N|0.7692307692307693|\n",
            "|R282QUZDDJW3ON|          4|           45|         49|   N|                Y|0.9183673469387755|\n",
            "|R3H5T3T7QY3ZL2|          5|          247|        263|   N|                Y|0.9391634980988594|\n",
            "|R3W1A1P95IIGHX|          5|           23|         25|   N|                N|              0.92|\n",
            "+--------------+-----------+-------------+-----------+----+-----------------+------------------+\n",
            "only showing top 20 rows\n",
            "\n"
          ]
        }
      ]
    },
    {
      "cell_type": "code",
      "source": [
        "# Step 5.1: vine_reviews_YES: 'total number of reviews' & 'number of 5-stars reviews' & '% of 5-stars reviews'\n",
        "# Step 5.1.a: total number of reviews\n",
        "vineY_reviews_TOTAL_df = vine_Y_df.agg({'review_id':'count'}).withColumnRenamed(\"count(review_id)\", \"Total_Vine_Reviews\")\n",
        "vineY_reviews_TOTAL_df.show()"
      ],
      "metadata": {
        "colab": {
          "base_uri": "https://localhost:8080/"
        },
        "id": "myIyniobd1p4",
        "outputId": "eba23256-c330-4a9d-e393-aa302387fc75"
      },
      "execution_count": 11,
      "outputs": [
        {
          "output_type": "stream",
          "name": "stdout",
          "text": [
            "+------------------+\n",
            "|Total_Vine_Reviews|\n",
            "+------------------+\n",
            "|               107|\n",
            "+------------------+\n",
            "\n"
          ]
        }
      ]
    },
    {
      "cell_type": "code",
      "source": [
        "# Step 5.1.b: 5-star revievs \n",
        "vineY_reviews_5STAR_df = vine_Y_df.filter('star_rating==5').agg({'star_rating':'count'}).withColumnRenamed(\"count(star_rating)\", \"5-stars_Vine_Reviews\")\n",
        "vineY_reviews_5STAR_df.show()"
      ],
      "metadata": {
        "colab": {
          "base_uri": "https://localhost:8080/"
        },
        "id": "9zskRoOLd5ez",
        "outputId": "ecb60657-4037-4d69-a565-cb479506e0b4"
      },
      "execution_count": 12,
      "outputs": [
        {
          "output_type": "stream",
          "name": "stdout",
          "text": [
            "+--------------------+\n",
            "|5-stars_Vine_Reviews|\n",
            "+--------------------+\n",
            "|                  56|\n",
            "+--------------------+\n",
            "\n"
          ]
        }
      ]
    },
    {
      "cell_type": "code",
      "source": [
        "vineY_reviews_percentage = vineY_reviews_5STAR_df.collect()[0]['5-stars_Vine_Reviews'] / vineY_reviews_TOTAL_df.collect()[0]['Total_Vine_Reviews'] * 100\n",
        "round(vineY_reviews_percentage,2)"
      ],
      "metadata": {
        "colab": {
          "base_uri": "https://localhost:8080/"
        },
        "id": "BSdNVvIgd9qM",
        "outputId": "82f908b8-1eda-47ec-fad7-a96ed1735ee9"
      },
      "execution_count": 13,
      "outputs": [
        {
          "output_type": "execute_result",
          "data": {
            "text/plain": [
              "52.34"
            ]
          },
          "metadata": {},
          "execution_count": 13
        }
      ]
    },
    {
      "cell_type": "code",
      "source": [
        "# Step 5.2: vine_reviews_NO: 'total number of reviews' & 'number of 5-stars reviews' & '% of 5-stars reviews '\n",
        "# Step 5.2.a: total number of reviews\n",
        "vineN_reviews_TOTAL_df = vine_N_df.agg({'review_id':'count'}).withColumnRenamed(\"count(review_id)\", \"Total_non-Vine_Reviews\")\n",
        "vineN_reviews_TOTAL_df.show()"
      ],
      "metadata": {
        "colab": {
          "base_uri": "https://localhost:8080/"
        },
        "id": "V0Mi6PD7eB19",
        "outputId": "4c11e169-470e-411f-ec6f-a352d4e3bafb"
      },
      "execution_count": 14,
      "outputs": [
        {
          "output_type": "stream",
          "name": "stdout",
          "text": [
            "+----------------------+\n",
            "|Total_non-Vine_Reviews|\n",
            "+----------------------+\n",
            "|                 39869|\n",
            "+----------------------+\n",
            "\n"
          ]
        }
      ]
    },
    {
      "cell_type": "code",
      "source": [
        "# Step 5.2.a: number of 5-stars reviews\n",
        "vineN_reviews_5STAR_df = vine_N_df.filter('star_rating==5').agg({'star_rating':'count'}).withColumnRenamed(\"count(star_rating)\", \"5-stars_non-Vine_Reviews\")\n",
        "vineN_reviews_5STAR_df.show()"
      ],
      "metadata": {
        "colab": {
          "base_uri": "https://localhost:8080/"
        },
        "id": "axS_JxPteCe9",
        "outputId": "2932c7db-7a89-44d1-abcf-49397fde128f"
      },
      "execution_count": 15,
      "outputs": [
        {
          "output_type": "stream",
          "name": "stdout",
          "text": [
            "+------------------------+\n",
            "|5-stars_non-Vine_Reviews|\n",
            "+------------------------+\n",
            "|                   21005|\n",
            "+------------------------+\n",
            "\n"
          ]
        }
      ]
    },
    {
      "cell_type": "code",
      "source": [
        "vineN_reviews_percentage = vineN_reviews_5STAR_df.collect()[0]['5-stars_non-Vine_Reviews'] / vineN_reviews_TOTAL_df.collect()[0]['Total_non-Vine_Reviews'] * 100\n",
        "round(vineN_reviews_percentage,2)"
      ],
      "metadata": {
        "colab": {
          "base_uri": "https://localhost:8080/"
        },
        "id": "hoyHqtfKeFR9",
        "outputId": "e7000680-1e8d-4fbd-abdd-3591475bbe19"
      },
      "execution_count": 16,
      "outputs": [
        {
          "output_type": "execute_result",
          "data": {
            "text/plain": [
              "52.69"
            ]
          },
          "metadata": {},
          "execution_count": 16
        }
      ]
    },
    {
      "cell_type": "code",
      "source": [
        "# Create data frame for % results\n",
        "percentage_df = spark.createDataFrame([\n",
        "                                       (52.34, 52.69)],\n",
        "                                      ['Percentage Vine Reviews', \"Percentage non-Vine Reviews\"])\n",
        "percentage_df.show()"
      ],
      "metadata": {
        "colab": {
          "base_uri": "https://localhost:8080/"
        },
        "id": "9lD0w50neHkH",
        "outputId": "a0164c22-bccb-4977-9432-12c5ded3757d"
      },
      "execution_count": 17,
      "outputs": [
        {
          "output_type": "stream",
          "name": "stdout",
          "text": [
            "+-----------------------+---------------------------+\n",
            "|Percentage Vine Reviews|Percentage non-Vine Reviews|\n",
            "+-----------------------+---------------------------+\n",
            "|                  52.34|                      52.69|\n",
            "+-----------------------+---------------------------+\n",
            "\n"
          ]
        }
      ]
    },
    {
      "cell_type": "code",
      "source": [
        "# Positivity Bias - additional calculations\n",
        "# Vine Reviews\n",
        "all_stars_YES = vine_Y_df.groupby(\"star_rating\").agg({\"review_id\":\"count\"}).withColumnRenamed(\"count(review_id)\", \"Count of Reviews Vine\")"
      ],
      "metadata": {
        "id": "tQSNOg1AeOAk"
      },
      "execution_count": 18,
      "outputs": []
    },
    {
      "cell_type": "code",
      "source": [
        "# Vine Reviews (cont)\n",
        "import pyspark.sql.functions as func\n",
        "all_stars_YES_percentage = all_stars_YES.withColumn('% of total', func.round(all_stars_YES['Count of Reviews Vine']/ \\\n",
        "                                                (vineY_reviews_TOTAL_df.collect()[0]['Total_Vine_Reviews']/100), 2)) \\\n",
        "                                                .orderBy(all_stars_YES['star_rating'].asc()).show()"
      ],
      "metadata": {
        "colab": {
          "base_uri": "https://localhost:8080/"
        },
        "id": "JutXu47EeRTS",
        "outputId": "9fe88d45-b414-4ede-d915-e8b0785e0ec4"
      },
      "execution_count": 19,
      "outputs": [
        {
          "output_type": "stream",
          "name": "stdout",
          "text": [
            "+-----------+---------------------+----------+\n",
            "|star_rating|Count of Reviews Vine|% of total|\n",
            "+-----------+---------------------+----------+\n",
            "|          1|                    1|      0.93|\n",
            "|          2|                    2|      1.87|\n",
            "|          3|                   16|     14.95|\n",
            "|          4|                   32|     29.91|\n",
            "|          5|                   56|     52.34|\n",
            "+-----------+---------------------+----------+\n",
            "\n"
          ]
        }
      ]
    },
    {
      "cell_type": "code",
      "source": [
        "# non-Vine Reviews\n",
        "all_stars_NO = vine_N_df.groupby(\"star_rating\").agg({\"review_id\":\"count\"}).withColumnRenamed(\"count(review_id)\", \"Count of Reviews non-Vine\")\n"
      ],
      "metadata": {
        "id": "CVlid9KAeW7J"
      },
      "execution_count": 20,
      "outputs": []
    },
    {
      "cell_type": "code",
      "source": [
        "# non-Vine Reviews (cont)\n",
        "all_stars_NO_percentage = all_stars_NO.withColumn('% of total', func.round(all_stars_NO['Count of Reviews non-Vine']/ \\\n",
        "                                            (vineN_reviews_TOTAL_df.collect()[0]['Total_non-Vine_Reviews']/100), 2))  \\\n",
        "                                            .orderBy(all_stars_NO['star_rating'].asc()).show()"
      ],
      "metadata": {
        "colab": {
          "base_uri": "https://localhost:8080/"
        },
        "id": "_YTOdfPZecYH",
        "outputId": "848cf002-b16b-4e7f-9ee3-d72d499eea6b"
      },
      "execution_count": 21,
      "outputs": [
        {
          "output_type": "stream",
          "name": "stdout",
          "text": [
            "+-----------+-------------------------+----------+\n",
            "|star_rating|Count of Reviews non-Vine|% of total|\n",
            "+-----------+-------------------------+----------+\n",
            "|          1|                     5324|     13.35|\n",
            "|          2|                     2412|      6.05|\n",
            "|          3|                     3744|      9.39|\n",
            "|          4|                     7384|     18.52|\n",
            "|          5|                    21005|     52.69|\n",
            "+-----------+-------------------------+----------+\n",
            "\n"
          ]
        }
      ]
    }
  ]
}